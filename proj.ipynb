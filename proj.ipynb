{
 "cells": [
  {
   "cell_type": "markdown",
   "id": "d3cc87a2",
   "metadata": {},
   "source": [
    "## import the packages :"
   ]
  },
  {
   "cell_type": "code",
   "execution_count": 1,
   "id": "752325d8",
   "metadata": {},
   "outputs": [],
   "source": [
    "import pandas as pd"
   ]
  },
  {
   "cell_type": "markdown",
   "id": "d2be1f0d",
   "metadata": {},
   "source": [
    "## load data"
   ]
  },
  {
   "cell_type": "code",
   "execution_count": 15,
   "id": "8c0545f8",
   "metadata": {},
   "outputs": [],
   "source": [
    "#usd ois curve\n",
    "#deposite\n",
    "df1 = pd.DataFrame({\n",
    "    \"Tenor\" : ['ON','TN','S/N','1W','2W','3W','1M','2M','3M','6M','9M'],\n",
    "    \"Rate Used\":[1.60,1.59,1.59,1.59,1.59,1.59,1.59,1.58,1.57,1.51,1.45]\n",
    "})\n",
    "#swap\n",
    "df2 = pd.DataFrame({\n",
    "    \"Tenor\" : ['1Y','2Y','3Y','4Y','5Y','6Y','7Y','8Y','9Y','10Y','12Y','15Y','20Y','25Y','30Y'],\n",
    "    \"Rate Used\":[1.38,1.22,1.12,1.14,1.15,1.16,1.18,1.21,1.24,1.27,1.31,1.37,1.43,1.45,1.46]\n",
    "})\n",
    "\n",
    "#usd 3m libor\n",
    "df3 = pd.DataFrame({\n",
    "    \"Tenor\" : ['ON','TN','S/N','1W','2W','3W','1M','2M','3M'],\n",
    "    \"Rate Used\":[1.75] * 9\n",
    "})\n",
    "df4 = pd.DataFrame({\n",
    "    \"Tenor\" : ['F1','F2','F3','F4','F5','F6','F7','F8'],\n",
    "    \"Rate Used\":[98.35,98.47,98.60,98.64,98.75,98.79,98.81,98.78]\n",
    "})\n",
    "\n",
    "df5 = pd.DataFrame({\n",
    "    \"Tenor\" : ['3Y','4Y','5Y','6Y','7Y','8Y','9Y','10Y','12Y','15Y','20Y','25Y','30Y'],\n",
    "    \"Rate Used\":[1.34,1.33,1.33,1.35,1.37,1.40,1.43,1.46,1.51,1.57,1.63,1.65,1.66]\n",
    "}) \n",
    "\n",
    "#usd 1m/3m libor\n",
    "df6 = pd.DataFrame({\n",
    "    \"Tenor\" : ['ON','TN','S/N','1W','2W','3Y','4Y','5Y','7Y','10Y','12Y','15Y','20Y','25Y','30Y'],\n",
    "    \"Rate Used\":[15,12,10,9] + [8] * 11\n",
    "}) \n",
    "\n",
    "#usd 3m/6m libor\n",
    "df7 = pd.DataFrame({\n",
    "    \"Tenor\" : ['ON','TN','S/N','1W','2W','3Y','4Y','5Y','7Y','10Y','12Y','15Y','20Y','25Y','30Y'],\n",
    "    \"Rate Used\":[20,15,12,11] + [10] * 11\n",
    "})"
   ]
  },
  {
   "cell_type": "code",
   "execution_count": 16,
   "id": "1a7868b8",
   "metadata": {},
   "outputs": [
    {
     "data": {
      "text/plain": [
       "[   Tenor  Rate Used\n",
       " 0     ON       1.60\n",
       " 1     TN       1.59\n",
       " 2    S/N       1.59\n",
       " 3     1W       1.59\n",
       " 4     2W       1.59\n",
       " 5     3W       1.59\n",
       " 6     1M       1.59\n",
       " 7     2M       1.58\n",
       " 8     3M       1.57\n",
       " 9     6M       1.51\n",
       " 10    9M       1.45,\n",
       "    Tenor  Rate Used\n",
       " 0     1Y       1.38\n",
       " 1     2Y       1.22\n",
       " 2     3Y       1.12\n",
       " 3     4Y       1.14\n",
       " 4     5Y       1.15\n",
       " 5     6Y       1.16\n",
       " 6     7Y       1.18\n",
       " 7     8Y       1.21\n",
       " 8     9Y       1.24\n",
       " 9    10Y       1.27\n",
       " 10   12Y       1.31\n",
       " 11   15Y       1.37\n",
       " 12   20Y       1.43\n",
       " 13   25Y       1.45\n",
       " 14   30Y       1.46,\n",
       "   Tenor  Rate Used\n",
       " 0    ON       1.75\n",
       " 1    TN       1.75\n",
       " 2   S/N       1.75\n",
       " 3    1W       1.75\n",
       " 4    2W       1.75\n",
       " 5    3W       1.75\n",
       " 6    1M       1.75\n",
       " 7    2M       1.75\n",
       " 8    3M       1.75,\n",
       "   Tenor  Rate Used\n",
       " 0    F1      98.35\n",
       " 1    F2      98.47\n",
       " 2    F3      98.60\n",
       " 3    F4      98.64\n",
       " 4    F5      98.75\n",
       " 5    F6      98.79\n",
       " 6    F7      98.81\n",
       " 7    F8      98.78,\n",
       "    Tenor  Rate Used\n",
       " 0     3Y       1.34\n",
       " 1     4Y       1.33\n",
       " 2     5Y       1.33\n",
       " 3     6Y       1.35\n",
       " 4     7Y       1.37\n",
       " 5     8Y       1.40\n",
       " 6     9Y       1.43\n",
       " 7    10Y       1.46\n",
       " 8    12Y       1.51\n",
       " 9    15Y       1.57\n",
       " 10   20Y       1.63\n",
       " 11   25Y       1.65\n",
       " 12   30Y       1.66,\n",
       "    Tenor  Rate Used\n",
       " 0     ON         15\n",
       " 1     TN         12\n",
       " 2    S/N         10\n",
       " 3     1W          9\n",
       " 4     2W          8\n",
       " 5     3Y          8\n",
       " 6     4Y          8\n",
       " 7     5Y          8\n",
       " 8     7Y          8\n",
       " 9    10Y          8\n",
       " 10   12Y          8\n",
       " 11   15Y          8\n",
       " 12   20Y          8\n",
       " 13   25Y          8\n",
       " 14   30Y          8,\n",
       "    Tenor  Rate Used\n",
       " 0     ON         20\n",
       " 1     TN         15\n",
       " 2    S/N         12\n",
       " 3     1W         11\n",
       " 4     2W         10\n",
       " 5     3Y         10\n",
       " 6     4Y         10\n",
       " 7     5Y         10\n",
       " 8     7Y         10\n",
       " 9    10Y         10\n",
       " 10   12Y         10\n",
       " 11   15Y         10\n",
       " 12   20Y         10\n",
       " 13   25Y         10\n",
       " 14   30Y         10]"
      ]
     },
     "execution_count": 16,
     "metadata": {},
     "output_type": "execute_result"
    }
   ],
   "source": [
    "# to see what is df , in fact it's just the same as slids 30\n",
    "# this cell can be delete before uploading . \n",
    "\n",
    "df = [df1,df2,df3,df4,df5,df6,df7]\n",
    "df"
   ]
  },
  {
   "cell_type": "markdown",
   "id": "7083c032",
   "metadata": {},
   "source": [
    "## define the functions"
   ]
  },
  {
   "cell_type": "code",
   "execution_count": 19,
   "id": "c343c77e",
   "metadata": {},
   "outputs": [],
   "source": [
    "def oiscurve(df1,df2):\n",
    "    \"\"\"use the first table to get the ois curve\"\"\"\n",
    "    return yieldcurve\n",
    "\n",
    "def libor3m(ois_curve,df3,df4,df5):\n",
    "    \"\"\"use the got ois curve and the info in table2 to get the 3mlibor\"\"\"\n",
    "    return yieldcurve\n",
    "    \n",
    "def libor1m(ois_curve,libor_curve_3m,df6):\n",
    "    \"\"\"use 3mliborcurve , oiscurve , and 1m/3m spread , to calculate 1mliborcurve\"\"\"\n",
    "    return yieldcurve\n",
    "\n",
    "def libor6m(ois_curve,libor_curve_3m,df7):\n",
    "    \"\"\"use 3mliborcurve , oiscurve , and 6m/3m spread , to calculate 6mliborcurve\"\"\"\n",
    "\n",
    "def priced(curve):\n",
    "    \"\"\"calculate deposite rate from a curve\"\"\"\n",
    "    return df1\n",
    "\n",
    "def prices(curve):\n",
    "    \"\"\"calculate swap rate from a curve\"\"\"\n",
    "    return df2\n",
    "\n",
    "def pricef(curve):\n",
    "    \"\"\"calculate future price from a curve\"\"\"\n",
    "    return df4\n",
    "\n",
    "def franpv(notional,start,end,ois_curve,rate):\n",
    "    \"\"\"calculate notional of start * end ATM rate frome oiscurve\"\"\"\n",
    "    return npv\n",
    "\n",
    "def swapnpv(notional,start,end,ois_curve,rate):\n",
    "    \"\"\"calculate notional of start * end ATM swap rate frome oiscurve\"\"\"\n",
    "    return npv\n",
    "\n",
    "def spreadnpv(ois_curve,libor_curve_3m,spread):\n",
    "    \"\"\"calculate spreat = 1 , what is the npv of the 5th instrument of the portfolio\"\"\"\n",
    "    return npv\n",
    "\n",
    "\n",
    "\n"
   ]
  },
  {
   "cell_type": "markdown",
   "id": "1b3ca4ec",
   "metadata": {},
   "source": [
    "## calculation\n",
    "### bootstrap multi-yield curve"
   ]
  },
  {
   "cell_type": "code",
   "execution_count": 18,
   "id": "e7b06391",
   "metadata": {},
   "outputs": [
    {
     "ename": "NameError",
     "evalue": "name 'oiscurve' is not defined",
     "output_type": "error",
     "traceback": [
      "\u001b[0;31m---------------------------------------------------------------------------\u001b[0m",
      "\u001b[0;31mNameError\u001b[0m                                 Traceback (most recent call last)",
      "\u001b[0;32m/tmp/ipykernel_89240/837206865.py\u001b[0m in \u001b[0;36m<module>\u001b[0;34m\u001b[0m\n\u001b[0;32m----> 1\u001b[0;31m \u001b[0mois_curve\u001b[0m \u001b[0;34m=\u001b[0m \u001b[0moiscurve\u001b[0m\u001b[0;34m(\u001b[0m\u001b[0mdf1\u001b[0m\u001b[0;34m,\u001b[0m\u001b[0mdf2\u001b[0m\u001b[0;34m)\u001b[0m\u001b[0;34m\u001b[0m\u001b[0;34m\u001b[0m\u001b[0m\n\u001b[0m\u001b[1;32m      2\u001b[0m \u001b[0mlibor_curve_3m\u001b[0m \u001b[0;34m=\u001b[0m \u001b[0mlibor3m\u001b[0m\u001b[0;34m(\u001b[0m\u001b[0mois_curve\u001b[0m\u001b[0;34m,\u001b[0m\u001b[0mdf3\u001b[0m\u001b[0;34m,\u001b[0m\u001b[0mdf4\u001b[0m\u001b[0;34m,\u001b[0m\u001b[0mdf5\u001b[0m\u001b[0;34m)\u001b[0m\u001b[0;34m\u001b[0m\u001b[0;34m\u001b[0m\u001b[0m\n\u001b[1;32m      3\u001b[0m \u001b[0mlibor_curve_1m\u001b[0m \u001b[0;34m=\u001b[0m \u001b[0mlibor1m\u001b[0m\u001b[0;34m(\u001b[0m\u001b[0mois_curve\u001b[0m\u001b[0;34m,\u001b[0m\u001b[0mdf6\u001b[0m\u001b[0;34m)\u001b[0m\u001b[0;34m\u001b[0m\u001b[0;34m\u001b[0m\u001b[0m\n\u001b[1;32m      4\u001b[0m \u001b[0mlibor_curve_1m\u001b[0m \u001b[0;34m=\u001b[0m \u001b[0mlibor6m\u001b[0m\u001b[0;34m(\u001b[0m\u001b[0mois_curve\u001b[0m\u001b[0;34m,\u001b[0m\u001b[0mdf7\u001b[0m\u001b[0;34m)\u001b[0m\u001b[0;34m\u001b[0m\u001b[0;34m\u001b[0m\u001b[0m\n\u001b[1;32m      5\u001b[0m \u001b[0;34m\u001b[0m\u001b[0m\n",
      "\u001b[0;31mNameError\u001b[0m: name 'oiscurve' is not defined"
     ]
    }
   ],
   "source": [
    "ois_curve = oiscurve(df1,df2)\n",
    "libor_curve_3m = libor3m(ois_curve,df3,df4,df5)\n",
    "libor_curve_1m = libor1m(ois_curve,df6)\n",
    "libor_curve_1m = libor6m(ois_curve,df7)\n",
    "\n",
    "#plot this 4 curve in 1 photo\n",
    "#plt.show()"
   ]
  },
  {
   "cell_type": "markdown",
   "id": "5e329194",
   "metadata": {},
   "source": [
    "## confirm self consistent"
   ]
  },
  {
   "cell_type": "code",
   "execution_count": null,
   "id": "e44ab5e2",
   "metadata": {},
   "outputs": [],
   "source": [
    "df1r = priced(ois_curve)\n",
    "df2r = prices(ois_curve)\n",
    "df3r = priced(libor_curve_3m)\n",
    "# ..."
   ]
  },
  {
   "cell_type": "markdown",
   "id": "1c228903",
   "metadata": {},
   "source": [
    "## ATM rate"
   ]
  },
  {
   "cell_type": "code",
   "execution_count": null,
   "id": "33a385a8",
   "metadata": {},
   "outputs": [],
   "source": [
    "#A * r + B = npv\n",
    "#r = 1 , npvp = A + B\n",
    "#r = -1 , npvm = -A + B\n",
    "#A * r0 + B = 0 , r0 = (npvp+npvm)/(npvm-npvp)\n",
    "npvp = franpv(200,9,12,ois_curve,1)\n",
    "npvm = franpv(200,9,12,ois_curve,-1)\n",
    "r1 = (npvp+npvm)/(npvm-npvp)\n",
    "\n",
    "#r2 = fra(-150,9,12,ois_curve)\n",
    "#r3 = swap(300,10,10,ois_curve)\n",
    "#r4 = swap(-100,5,5,ois_curve)\n",
    "\n",
    "pd.DataFrame({\n",
    "    \"instrument No.\":[1,2,3,4]\n",
    "    \"ATM rate\":[r1,r2,r3,r4]\n",
    "})"
   ]
  },
  {
   "cell_type": "markdown",
   "id": "644fde53",
   "metadata": {},
   "source": [
    "## Spread "
   ]
  },
  {
   "cell_type": "code",
   "execution_count": null,
   "id": "46cecd5f",
   "metadata": {},
   "outputs": [],
   "source": [
    "p = spreadnpv(ois_curve,libor_curve_3m,1)\n",
    "m = spreadnpv(ois_curve,libor_curve_3m,-1)\n",
    "\n",
    "(m+p)/(m-p)"
   ]
  },
  {
   "cell_type": "markdown",
   "id": "5a0e0c73",
   "metadata": {},
   "source": [
    "## risk report"
   ]
  },
  {
   "cell_type": "code",
   "execution_count": null,
   "id": "a20d0d34",
   "metadata": {},
   "outputs": [],
   "source": [
    "def portfolio(ois_curve,libor_curve_3m):\n",
    "    npv = np.array([franpv(200,9,12,ois_curve,r1),\n",
    "                    franpv(-150,6,12,ois_curve,r2),\n",
    "                    swapnpv(300,10,10,ois_curve,r3),\n",
    "                    swapnpv(-100,10,10,ois_curve,r4),\n",
    "                    spreadnpv(ois_curve,libor_curve_3m,r5)\n",
    "                   ]).sum()\n",
    "    return npv\n",
    "\n",
    "for change in ??:\n",
    "    df[change] = df[change] + 0.01\n",
    "    port[change] = portfolio(oicurve(??),libor3m(??))\n",
    "    \n",
    "port"
   ]
  },
  {
   "cell_type": "code",
   "execution_count": null,
   "id": "7c4497c4",
   "metadata": {},
   "outputs": [],
   "source": []
  }
 ],
 "metadata": {
  "kernelspec": {
   "display_name": "Python 3 (ipykernel)",
   "language": "python",
   "name": "python3"
  },
  "language_info": {
   "codemirror_mode": {
    "name": "ipython",
    "version": 3
   },
   "file_extension": ".py",
   "mimetype": "text/x-python",
   "name": "python",
   "nbconvert_exporter": "python",
   "pygments_lexer": "ipython3",
   "version": "3.8.12"
  }
 },
 "nbformat": 4,
 "nbformat_minor": 5
}
